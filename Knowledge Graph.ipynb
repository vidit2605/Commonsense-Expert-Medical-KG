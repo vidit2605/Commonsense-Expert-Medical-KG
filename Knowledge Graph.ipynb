{
 "cells": [
  {
   "cell_type": "markdown",
   "metadata": {},
   "source": [
    "## Creating the graph in Neo4j"
   ]
  },
  {
   "cell_type": "code",
   "execution_count": 1,
   "metadata": {},
   "outputs": [
    {
     "name": "stdout",
     "output_type": "stream",
     "text": [
      "Requirement already satisfied: neo4j in c:\\users\\vidit\\anaconda3\\lib\\site-packages (4.4.1)\n",
      "Requirement already satisfied: pytz in c:\\users\\vidit\\anaconda3\\lib\\site-packages (from neo4j) (2020.1)\n",
      "Requirement already satisfied: tqdm in c:\\users\\vidit\\anaconda3\\lib\\site-packages (4.50.2)\n"
     ]
    }
   ],
   "source": [
    "!pip install neo4j\n",
    "!pip install tqdm"
   ]
  },
  {
   "cell_type": "code",
   "execution_count": 2,
   "metadata": {},
   "outputs": [],
   "source": [
    "from neo4j import GraphDatabase\n",
    "import time\n",
    "from tqdm import tqdm\n",
    "import pandas as pd"
   ]
  },
  {
   "cell_type": "code",
   "execution_count": 3,
   "metadata": {},
   "outputs": [],
   "source": [
    "relation_df = pd.read_csv('final_relations_wiki_mimic.csv') #add path to file created using Relation Extractor SparkNLP which is merged"
   ]
  },
  {
   "cell_type": "code",
   "execution_count": 4,
   "metadata": {},
   "outputs": [],
   "source": [
    "class Neo4jConnection:\n",
    "    \n",
    "    def __init__(self, uri, user, pwd):\n",
    "        \n",
    "        self.__uri = uri\n",
    "        self.__user = user\n",
    "        self.__pwd = pwd\n",
    "        self.__driver = None\n",
    "        \n",
    "        try:\n",
    "            self.__driver = GraphDatabase.driver(self.__uri, auth=(self.__user, self.__pwd))\n",
    "        except Exception as e:\n",
    "            print(\"Failed to create the driver:\", e)\n",
    "        \n",
    "    def close(self):\n",
    "        \n",
    "        if self.__driver is not None:\n",
    "            self.__driver.close()\n",
    "        \n",
    "    def query(self, query, parameters=None, db=None):\n",
    "        \n",
    "        assert self.__driver is not None, \"Driver not initialized!\"\n",
    "        session = None\n",
    "        response = None\n",
    "        \n",
    "        try: \n",
    "            session = self.__driver.session(database=db) if db is not None else self.__driver.session() \n",
    "            response = list(session.run(query, parameters))\n",
    "        except Exception as e:\n",
    "            print(\"Query failed:\", e)\n",
    "        finally: \n",
    "            if session is not None:\n",
    "                session.close()\n",
    "        return response"
   ]
  },
  {
   "cell_type": "code",
   "execution_count": 5,
   "metadata": {},
   "outputs": [],
   "source": [
    "def update_data(query, rows, batch_size = 10000):\n",
    "    # Function to handle the updating the Neo4j database in batch mode.\n",
    "    # Especially for large datasets.\n",
    "    total = 0\n",
    "    batch = 0\n",
    "    start = time.time()\n",
    "    result = None\n",
    "\n",
    "    while batch * batch_size < len(rows):\n",
    "\n",
    "        res = conn.query(query, parameters={'rows': rows[batch*batch_size:(batch+1)*batch_size].to_dict('records')})\n",
    "        total += res[0]['total']\n",
    "        batch += 1\n",
    "        result = {\"total\":total, \"batches\":batch, \"time\":time.time()-start}\n",
    "        print(result)\n",
    "\n",
    "    return result"
   ]
  },
  {
   "cell_type": "code",
   "execution_count": 6,
   "metadata": {},
   "outputs": [],
   "source": [
    "def add_ners_rels(rows, batch_size=10000):\n",
    "    # Adds NER nodes to the Neo4j graph as a batch job.\n",
    "    query = '''\n",
    "    //chunk1 NERs\n",
    "    UNWIND $rows as row\n",
    "    MERGE(n1:NER{name:row.chunk1}) ON CREATE SET n1.type=row.entity1\n",
    "    \n",
    "    //chunk2 NERs\n",
    "    MERGE(n2:NER{name:row.chunk2}) ON CREATE SET n2.type=row.entity2\n",
    "\n",
    "    //connect NERs\n",
    "    WITH row, n1, n2\n",
    "    CALL apoc.create.relationship(n1, toString(row.relation), {}, n2) YIELD rel\n",
    "\n",
    "    WITH n1\n",
    "    MATCH (n1)\n",
    "    RETURN count(*) as total  \n",
    "    '''\n",
    "    return update_data(query, rows, batch_size)\n",
    "#     WITH row, n1, n2\n",
    "#     MERGE (n1)-[:LINKS{relation:row.relation}]->(n2)"
   ]
  },
  {
   "cell_type": "code",
   "execution_count": 7,
   "metadata": {},
   "outputs": [],
   "source": [
    "#add uri, password and user as shown in Neo4j\n",
    "uri = 'bolt://127.0.0.1:7687'\n",
    "pwd = 'graph'\n",
    "user= 'neo4j'\n",
    "\n",
    "conn = Neo4jConnection(uri=uri, user=user , pwd=pwd)"
   ]
  },
  {
   "cell_type": "code",
   "execution_count": 8,
   "metadata": {},
   "outputs": [],
   "source": [
    "# uri = 'bolt://54.147.79.121:7687'\n",
    "# pwd = 'laws-alibis-qualifier'\n",
    "# user= 'neo4j'\n",
    "\n",
    "# conn = Neo4jConnection(uri=uri, user=user , pwd=pwd)"
   ]
  },
  {
   "cell_type": "code",
   "execution_count": null,
   "metadata": {},
   "outputs": [],
   "source": []
  },
  {
   "cell_type": "code",
   "execution_count": 9,
   "metadata": {},
   "outputs": [
    {
     "data": {
      "text/plain": [
       "[]"
      ]
     },
     "execution_count": 9,
     "metadata": {},
     "output_type": "execute_result"
    }
   ],
   "source": [
    "delete_all_nodes = 'MATCH (n) DETACH DELETE n;'\n",
    "conn.query(delete_all_nodes)"
   ]
  },
  {
   "cell_type": "code",
   "execution_count": 10,
   "metadata": {},
   "outputs": [
    {
     "data": {
      "text/plain": [
       "[]"
      ]
     },
     "execution_count": 10,
     "metadata": {},
     "output_type": "execute_result"
    }
   ],
   "source": [
    "const_ners = 'CREATE CONSTRAINT ners IF NOT EXISTS ON (n:NER) ASSERT n.name IS UNIQUE'\n",
    "conn.query(const_ners)"
   ]
  },
  {
   "cell_type": "code",
   "execution_count": 11,
   "metadata": {},
   "outputs": [
    {
     "name": "stdout",
     "output_type": "stream",
     "text": [
      "{'total': 10000, 'batches': 1, 'time': 2.692194938659668}\n",
      "{'total': 20000, 'batches': 2, 'time': 4.36225962638855}\n",
      "{'total': 30000, 'batches': 3, 'time': 5.931192874908447}\n",
      "{'total': 40000, 'batches': 4, 'time': 7.404002904891968}\n",
      "{'total': 50000, 'batches': 5, 'time': 8.546263933181763}\n",
      "{'total': 60000, 'batches': 6, 'time': 9.533070802688599}\n",
      "{'total': 70000, 'batches': 7, 'time': 10.535047054290771}\n",
      "{'total': 80000, 'batches': 8, 'time': 11.466240644454956}\n",
      "{'total': 90000, 'batches': 9, 'time': 12.52093768119812}\n",
      "{'total': 100000, 'batches': 10, 'time': 13.469653367996216}\n",
      "{'total': 110000, 'batches': 11, 'time': 14.406498670578003}\n",
      "{'total': 120000, 'batches': 12, 'time': 15.30834698677063}\n",
      "{'total': 130000, 'batches': 13, 'time': 16.188628911972046}\n",
      "{'total': 140000, 'batches': 14, 'time': 17.1149959564209}\n",
      "{'total': 150000, 'batches': 15, 'time': 17.98625111579895}\n",
      "{'total': 160000, 'batches': 16, 'time': 18.78773069381714}\n",
      "{'total': 170000, 'batches': 17, 'time': 19.640068292617798}\n",
      "{'total': 180000, 'batches': 18, 'time': 20.592446327209473}\n",
      "{'total': 190000, 'batches': 19, 'time': 21.55603265762329}\n",
      "{'total': 200000, 'batches': 20, 'time': 22.494348764419556}\n",
      "{'total': 210000, 'batches': 21, 'time': 23.34188723564148}\n",
      "{'total': 220000, 'batches': 22, 'time': 24.365320682525635}\n",
      "{'total': 230000, 'batches': 23, 'time': 25.177753448486328}\n",
      "{'total': 240000, 'batches': 24, 'time': 26.09567952156067}\n",
      "{'total': 250000, 'batches': 25, 'time': 27.01154351234436}\n",
      "{'total': 260000, 'batches': 26, 'time': 27.858640909194946}\n",
      "{'total': 270000, 'batches': 27, 'time': 28.70099449157715}\n",
      "{'total': 280000, 'batches': 28, 'time': 29.53596067428589}\n",
      "{'total': 290000, 'batches': 29, 'time': 30.48428440093994}\n",
      "{'total': 300000, 'batches': 30, 'time': 31.275519847869873}\n",
      "{'total': 310000, 'batches': 31, 'time': 32.16382098197937}\n",
      "{'total': 320000, 'batches': 32, 'time': 33.01260161399841}\n",
      "{'total': 330000, 'batches': 33, 'time': 33.89820122718811}\n",
      "{'total': 340000, 'batches': 34, 'time': 34.80102348327637}\n",
      "{'total': 350000, 'batches': 35, 'time': 35.68573832511902}\n",
      "{'total': 360000, 'batches': 36, 'time': 36.68854069709778}\n",
      "{'total': 370000, 'batches': 37, 'time': 37.61103057861328}\n",
      "{'total': 380000, 'batches': 38, 'time': 38.40396070480347}\n",
      "{'total': 390000, 'batches': 39, 'time': 39.340996980667114}\n",
      "{'total': 400000, 'batches': 40, 'time': 40.28761601448059}\n",
      "{'total': 410000, 'batches': 41, 'time': 41.211984157562256}\n",
      "{'total': 420000, 'batches': 42, 'time': 42.02977919578552}\n",
      "{'total': 430000, 'batches': 43, 'time': 42.91622757911682}\n",
      "{'total': 440000, 'batches': 44, 'time': 43.91472244262695}\n",
      "{'total': 450000, 'batches': 45, 'time': 44.81619048118591}\n",
      "{'total': 460000, 'batches': 46, 'time': 45.68754601478577}\n",
      "{'total': 470000, 'batches': 47, 'time': 46.65110683441162}\n",
      "{'total': 480000, 'batches': 48, 'time': 47.49248218536377}\n",
      "{'total': 490000, 'batches': 49, 'time': 48.51777267456055}\n",
      "{'total': 500000, 'batches': 50, 'time': 49.4189887046814}\n",
      "{'total': 510000, 'batches': 51, 'time': 50.27234697341919}\n",
      "{'total': 520000, 'batches': 52, 'time': 51.25723958015442}\n",
      "{'total': 530000, 'batches': 53, 'time': 52.11158776283264}\n",
      "{'total': 540000, 'batches': 54, 'time': 52.97523307800293}\n",
      "{'total': 550000, 'batches': 55, 'time': 53.862186908721924}\n",
      "{'total': 560000, 'batches': 56, 'time': 54.732585430145264}\n",
      "{'total': 570000, 'batches': 57, 'time': 55.634310245513916}\n",
      "{'total': 572771, 'batches': 58, 'time': 55.91869616508484}\n"
     ]
    },
    {
     "data": {
      "text/plain": [
       "{'total': 572771, 'batches': 58, 'time': 55.91869616508484}"
      ]
     },
     "execution_count": 11,
     "metadata": {},
     "output_type": "execute_result"
    }
   ],
   "source": [
    "add_ners_rels(relation_df)"
   ]
  },
  {
   "cell_type": "code",
   "execution_count": null,
   "metadata": {},
   "outputs": [],
   "source": []
  }
 ],
 "metadata": {
  "kernelspec": {
   "display_name": "Python 3",
   "language": "python",
   "name": "python3"
  },
  "language_info": {
   "codemirror_mode": {
    "name": "ipython",
    "version": 3
   },
   "file_extension": ".py",
   "mimetype": "text/x-python",
   "name": "python",
   "nbconvert_exporter": "python",
   "pygments_lexer": "ipython3",
   "version": "3.8.5"
  }
 },
 "nbformat": 4,
 "nbformat_minor": 4
}
